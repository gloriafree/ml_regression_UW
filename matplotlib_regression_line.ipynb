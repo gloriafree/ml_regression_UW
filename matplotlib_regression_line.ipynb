{
 "cells": [
  {
   "cell_type": "code",
   "execution_count": 1,
   "metadata": {},
   "outputs": [],
   "source": [
    "import pandas as pd\n",
    "import matplotlib as plt\n",
    "import matplotlib.pyplot as plt\n",
    "%matplotlib inline"
   ]
  },
  {
   "cell_type": "code",
   "execution_count": 4,
   "metadata": {},
   "outputs": [
    {
     "name": "stdout",
     "output_type": "stream",
     "text": [
      "   x   y   z\n",
      "0  1   1   4\n",
      "1  2   4   5\n",
      "2  3   7   1\n",
      "3  4  19   8\n",
      "4  5  35  10\n"
     ]
    }
   ],
   "source": [
    "df = pd.DataFrame({'x':[1,2,3,4,5],\n",
    "                  'y': [1,4,7,19,35],\n",
    "                  'z': [4,5,1,8,10]})\n",
    "print(df)"
   ]
  },
  {
   "cell_type": "code",
   "execution_count": 13,
   "metadata": {},
   "outputs": [
    {
     "data": {
      "text/plain": [
       "[<matplotlib.lines.Line2D at 0x2c6a3916888>,\n",
       " <matplotlib.lines.Line2D at 0x2c6a3952848>,\n",
       " <matplotlib.lines.Line2D at 0x2c6a3952a08>]"
      ]
     },
     "execution_count": 13,
     "metadata": {},
     "output_type": "execute_result"
    },
    {
     "data": {
      "image/png": "[encoded data removed]",
      "text/plain": [
       "<Figure size 432x288 with 1 Axes>"
      ]
     },
     "metadata": {
      "needs_background": "light"
     },
     "output_type": "display_data"
    }
   ],
   "source": [
    "plt.plot(df.x,df.y,'.',\n",
    "        df.x,df.z,'--',\n",
    "        df.x,df.z,'|',)\n",
    "# this can be used to plot and compare different model outputs:\n",
    "# x: fixed\n",
    "# y (model 1/2/3)"
   ]
  }
 ],
 "metadata": {
  "kernelspec": {
   "display_name": "Python 3",
   "language": "python",
   "name": "python3"
  },
  "language_info": {
   "codemirror_mode": {
    "name": "ipython",
    "version": 3
   },
   "file_extension": ".py",
   "mimetype": "text/x-python",
   "name": "python",
   "nbconvert_exporter": "python",
   "pygments_lexer": "ipython3",
   "version": "3.7.6"
  }
 },
 "nbformat": 4,
 "nbformat_minor": 4
}
