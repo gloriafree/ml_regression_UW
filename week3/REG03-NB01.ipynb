{
 "cells": [
  {
   "cell_type": "markdown",
   "metadata": {},
   "source": [
    "# Regression Week 3: Assessing Fit (polynomial regression)"
   ]
  },
  {
   "cell_type": "markdown",
   "metadata": {},
   "source": [
    "In this notebook you will compare different regression models in order to assess which model fits best. We will be using polynomial regression as a means to examine this topic. In particular you will:\n",
    "* Write a function to take an SArray and a degree and return an SFrame where each column is the SArray to a polynomial value up to the total degree e.g. degree = 3 then column 1 is the SArray column 2 is the SArray squared and column 3 is the SArray cubed\n",
    "* Use matplotlib to visualize polynomial regressions\n",
    "* Use matplotlib to visualize the same polynomial degree on different subsets of the data\n",
    "* Use a validation set to select a polynomial degree\n",
    "* Assess the final fit using test data\n",
    "\n",
    "We will continue to use the House data from previous notebooks."
   ]
  },
  {
   "cell_type": "markdown",
   "metadata": {},
   "source": [
    "# Fire up Turi Create"
   ]
  },
  {
   "cell_type": "code",
   "execution_count": 1,
   "metadata": {},
   "outputs": [],
   "source": [
    "#import turicreate\n",
    "import pandas as pd\n",
    "import numpy as np\n",
    "import os\n"
   ]
  },
  {
   "cell_type": "markdown",
   "metadata": {},
   "source": [
    "Next we're going to write a polynomial function that takes an SArray and a maximal degree and returns an SFrame with columns containing the SArray to all the powers up to the maximal degree.\n",
    "\n",
    "The easiest way to apply a power to an SArray is to use the .apply() and lambda x: functions. \n",
    "For example to take the example array and compute the third power we can do as follows: (note running this cell the first time may take longer than expected since it loads Turi Create)"
   ]
  },
  {
   "cell_type": "code",
   "execution_count": 40,
   "metadata": {},
   "outputs": [
    {
     "name": "stdout",
     "output_type": "stream",
     "text": [
      "[1. 2. 3.]\n"
     ]
    }
   ],
   "source": [
    "#tmp = pd.DataFrame([1., 2., 3.])\n",
    "#tmp_cubed = tmp.apply(lambda x: x**3)\n",
    "tmp = np.array([1., 2., 3.])\n",
    "print (tmp)\n",
    "#print (tmp_cubed)"
   ]
  },
  {
   "cell_type": "markdown",
   "metadata": {},
   "source": [
    "We can create an empty SFrame using turicreate.SFrame() and then add any columns to it with ex_sframe['column_name'] = value. For example we create an empty SFrame and make the column 'power_1' to be the first power of tmp (i.e. tmp itself)."
   ]
  },
  {
   "cell_type": "code",
   "execution_count": 41,
   "metadata": {},
   "outputs": [],
   "source": [
    "#ex_sframe = turicreate.SFrame()\n",
    "#ex_sframe['power_1'] = tmp\n",
    "#print ex_sframe"
   ]
  },
  {
   "cell_type": "markdown",
   "metadata": {},
   "source": [
    "# Polynomial_sframe function"
   ]
  },
  {
   "cell_type": "markdown",
   "metadata": {},
   "source": [
    "Using the hints above complete the following function to create an SFrame consisting of the powers of an SArray up to a specific degree:"
   ]
  },
  {
   "cell_type": "code",
   "execution_count": 42,
   "metadata": {},
   "outputs": [],
   "source": [
    "# first thing, understand what is format of feature\n",
    "\n",
    "def polynomial_sframe(feature, degree):\n",
    "    # assume that degree >= 1\n",
    "    # initialize the SFrame:\n",
    "    #poly_sframe = turicreate.SFrame()\n",
    "    poly_sframe = pd.DataFrame()\n",
    "    print(feature)\n",
    "    # and set poly_sframe['power_1'] equal to the passed feature\n",
    "    poly_sframe['power_1'] = feature\n",
    "\n",
    "    # first check if degree > 1\n",
    "    if degree > 1:\n",
    "        # then loop over the remaining degrees:\n",
    "        # range usually starts at 0 and stops at the endpoint-1. We want it to start at 2 and stop at degree\n",
    "        for power in range(2, degree+1): \n",
    "            # first we'll give the column a name:\n",
    "            name = 'power_' + str(power)\n",
    "            # then assign poly_sframe[name] to the appropriate power of feature\n",
    "            poly_sframe[name] = poly_sframe['power_1'].apply(lambda x: x**power)\n",
    "    return poly_sframe"
   ]
  },
  {
   "cell_type": "markdown",
   "metadata": {},
   "source": [
    "To test your function consider the smaller tmp variable and what you would expect the outcome of the following call:"
   ]
  },
  {
   "cell_type": "code",
   "execution_count": 43,
   "metadata": {},
   "outputs": [
    {
     "name": "stdout",
     "output_type": "stream",
     "text": [
      "[1. 2. 3.]\n",
      "   power_1  power_2  power_3\n",
      "0      1.0      1.0      1.0\n",
      "1      2.0      4.0      8.0\n",
      "2      3.0      9.0     27.0\n"
     ]
    }
   ],
   "source": [
    "print (polynomial_sframe(tmp, 3))"
   ]
  },
  {
   "cell_type": "markdown",
   "metadata": {},
   "source": [
    "# Visualizing polynomial regression"
   ]
  },
  {
   "cell_type": "markdown",
   "metadata": {},
   "source": [
    "Let's use matplotlib to visualize what a polynomial regression looks like on some real data."
   ]
  },
  {
   "cell_type": "code",
   "execution_count": 2,
   "metadata": {},
   "outputs": [
    {
     "name": "stdout",
     "output_type": "stream",
     "text": [
      "C:\\Users\\bblje\\Documents\\GitHub\\ml_regression_UW\\data\\kc_house_data.csv\n",
      "           id             date     price  bedrooms  bathrooms  sqft_living  \\\n",
      "0  7129300520  20141013T000000  221900.0         3       1.00         1180   \n",
      "1  6414100192  20141209T000000  538000.0         3       2.25         2570   \n",
      "2  5631500400  20150225T000000  180000.0         2       1.00          770   \n",
      "3  2487200875  20141209T000000  604000.0         4       3.00         1960   \n",
      "4  1954400510  20150218T000000  510000.0         3       2.00         1680   \n",
      "\n",
      "   sqft_lot  floors  waterfront  view  ...  grade  sqft_above  sqft_basement  \\\n",
      "0      5650     1.0           0     0  ...      7        1180              0   \n",
      "1      7242     2.0           0     0  ...      7        2170            400   \n",
      "2     10000     1.0           0     0  ...      6         770              0   \n",
      "3      5000     1.0           0     0  ...      7        1050            910   \n",
      "4      8080     1.0           0     0  ...      8        1680              0   \n",
      "\n",
      "   yr_built  yr_renovated  zipcode      lat     long  sqft_living15  \\\n",
      "0      1955             0    98178  47.5112 -122.257           1340   \n",
      "1      1951          1991    98125  47.7210 -122.319           1690   \n",
      "2      1933             0    98028  47.7379 -122.233           2720   \n",
      "3      1965             0    98136  47.5208 -122.393           1360   \n",
      "4      1987             0    98074  47.6168 -122.045           1800   \n",
      "\n",
      "   sqft_lot15  \n",
      "0        5650  \n",
      "1        7639  \n",
      "2        8062  \n",
      "3        5000  \n",
      "4        7503  \n",
      "\n",
      "[5 rows x 21 columns]\n"
     ]
    }
   ],
   "source": [
    "#sales = turicreate.SFrame('home_data.sframe/')\n",
    "from pathlib import Path\n",
    "folder_path = os.path.abspath('REG03-NB01')\n",
    "file_path = os.path.dirname(os.path.dirname(folder_path))\n",
    "\n",
    "sales = pd.read_csv(file_path + '\\data\\kc_house_data.csv')\n",
    "\n",
    "\n",
    "print(file_path + '\\data\\kc_house_data.csv')\n",
    "print(sales.head())"
   ]
  },
  {
   "cell_type": "markdown",
   "metadata": {},
   "source": [
    "As in Week 3, we will use the sqft_living variable. For plotting purposes (connecting the dots), you'll need to sort by the values of sqft_living. For houses with identical square footage, we break the tie by their prices."
   ]
  },
  {
   "cell_type": "code",
   "execution_count": 54,
   "metadata": {},
   "outputs": [],
   "source": [
    "sales = sales.sort_values(by=['sqft_living', 'price'])"
   ]
  },
  {
   "cell_type": "markdown",
   "metadata": {},
   "source": [
    "Let's start with a degree 1 polynomial using 'sqft_living' (i.e. a line) to predict 'price' and plot what it looks like."
   ]
  },
  {
   "cell_type": "code",
   "execution_count": 56,
   "metadata": {},
   "outputs": [
    {
     "name": "stdout",
     "output_type": "stream",
     "text": [
      "19452      290\n",
      "15381      370\n",
      "860        380\n",
      "18379      384\n",
      "4868       390\n",
      "         ...  \n",
      "8092      9640\n",
      "9254      9890\n",
      "3914     10040\n",
      "7252     12050\n",
      "12777    13540\n",
      "Name: sqft_living, Length: 21613, dtype: int64\n",
      "       power_1     price\n",
      "19452      290  142000.0\n",
      "15381      370  276000.0\n",
      "860        380  245000.0\n",
      "18379      384  265000.0\n",
      "4868       390  228000.0\n"
     ]
    }
   ],
   "source": [
    "poly1_data = polynomial_sframe(sales['sqft_living'], 1)\n",
    "poly1_data['price'] = sales['price'] # add price to the data since it's the target\n",
    "\n",
    "print(poly1_data.head())"
   ]
  },
  {
   "cell_type": "markdown",
   "metadata": {},
   "source": [
    "NOTE: for all the models in this notebook use validation_set = None to ensure that all results are consistent across users."
   ]
  },
  {
   "cell_type": "code",
   "execution_count": 74,
   "metadata": {},
   "outputs": [
    {
     "data": {
      "text/plain": [
       "LinearRegression(copy_X=True, fit_intercept=True, n_jobs=None, normalize=False)"
      ]
     },
     "execution_count": 74,
     "metadata": {},
     "output_type": "execute_result"
    }
   ],
   "source": [
    "from sklearn import linear_model\n",
    "\n",
    "model1 = linear_model.LinearRegression()\n",
    "\n",
    "x = poly1_data['power_1']\n",
    "x = np.array(x).reshape(-1, 1)\n",
    "y = poly1_data['price']\n",
    "model1.fit(x,y)"
   ]
  },
  {
   "cell_type": "code",
   "execution_count": 80,
   "metadata": {},
   "outputs": [
    {
     "name": "stdout",
     "output_type": "stream",
     "text": [
      "-43580.74309447396\n",
      "[280.6235679]\n",
      "       power_1     price\n",
      "19452      290  142000.0\n",
      "15381      370  276000.0\n",
      "860        380  245000.0\n",
      "18379      384  265000.0\n",
      "4868       390  228000.0\n"
     ]
    }
   ],
   "source": [
    "#let's take a look at the weights before we plot\n",
    "print(model1.intercept_)\n",
    "print(model1.coef_)\n",
    "\n",
    "print(poly1_data.head())"
   ]
  },
  {
   "cell_type": "code",
   "execution_count": 76,
   "metadata": {},
   "outputs": [],
   "source": [
    "import matplotlib.pyplot as plt\n",
    "%matplotlib inline"
   ]
  },
  {
   "cell_type": "code",
   "execution_count": 82,
   "metadata": {},
   "outputs": [
    {
     "data": {
      "text/plain": [
       "[<matplotlib.lines.Line2D at 0x1e4496da748>,\n",
       " <matplotlib.lines.Line2D at 0x1e449688a08>]"
      ]
     },
     "execution_count": 82,
     "metadata": {},
     "output_type": "execute_result"
    },
    {
     "data": {
      "image/png": "[encoded data removed]",
      "text/plain": [
       "<Figure size 432x288 with 1 Axes>"
      ]
     },
     "metadata": {
      "needs_background": "light"
     },
     "output_type": "display_data"
    }
   ],
   "source": [
    "plt.plot(poly1_data['power_1'],poly1_data['price'],'.',\n",
    "         poly1_data['power_1'], model1.predict(np.array(poly1_data['power_1']).reshape(-1,1)), '-')"
   ]
  },
  {
   "cell_type": "markdown",
   "metadata": {},
   "source": [
    "Let's unpack that plt.plot() command. The first pair of SArrays we passed are the 1st power of sqft and the actual price we then ask it to print these as dots '.'. The next pair we pass is the 1st power of sqft and the predicted values from the linear model. We ask these to be plotted as a line '-'. \n",
    "\n",
    "We can see, not surprisingly, that the predicted values all fall on a line, specifically the one with slope 280 and intercept -43579. What if we wanted to plot a second degree polynomial?"
   ]
  },
  {
   "cell_type": "code",
   "execution_count": 83,
   "metadata": {},
   "outputs": [
    {
     "name": "stdout",
     "output_type": "stream",
     "text": [
      "19452      290\n",
      "15381      370\n",
      "860        380\n",
      "18379      384\n",
      "4868       390\n",
      "         ...  \n",
      "8092      9640\n",
      "9254      9890\n",
      "3914     10040\n",
      "7252     12050\n",
      "12777    13540\n",
      "Name: sqft_living, Length: 21613, dtype: int64\n",
      "       power_1  power_2     price\n",
      "19452      290    84100  142000.0\n",
      "15381      370   136900  276000.0\n",
      "860        380   144400  245000.0\n",
      "18379      384   147456  265000.0\n",
      "4868       390   152100  228000.0\n"
     ]
    },
    {
     "data": {
      "text/plain": [
       "LinearRegression(copy_X=True, fit_intercept=True, n_jobs=None, normalize=False)"
      ]
     },
     "execution_count": 83,
     "metadata": {},
     "output_type": "execute_result"
    }
   ],
   "source": [
    "poly2_data = polynomial_sframe(sales['sqft_living'], 2)\n",
    "#print(poly2_data.columns)\n",
    "my_features = poly2_data.columns # get the name of the features\n",
    "poly2_data['price'] = sales['price'] # add price to the data since it's the target\n",
    "print(poly2_data.head())\n",
    "#model2 = turicreate.linear_regression.create(poly2_data, target = 'price', features = my_features, validation_set = None)\n",
    "\n",
    "model2 = linear_model.LinearRegression()\n",
    "\n",
    "x = poly2_data[['power_1', 'power_2']]\n",
    "y = poly2_data['price']\n",
    "model2.fit(x,y)"
   ]
  },
  {
   "cell_type": "code",
   "execution_count": 84,
   "metadata": {},
   "outputs": [
    {
     "name": "stdout",
     "output_type": "stream",
     "text": [
      "199222.27930548496\n",
      "[6.79940947e+01 3.85812609e-02]\n"
     ]
    }
   ],
   "source": [
    "print(model2.intercept_)\n",
    "print(model2.coef_)"
   ]
  },
  {
   "cell_type": "code",
   "execution_count": 86,
   "metadata": {},
   "outputs": [
    {
     "data": {
      "text/plain": [
       "[<matplotlib.lines.Line2D at 0x1e449792708>,\n",
       " <matplotlib.lines.Line2D at 0x1e4496e2b88>]"
      ]
     },
     "execution_count": 86,
     "metadata": {},
     "output_type": "execute_result"
    },
    {
     "data": {
      "image/png": "[encoded data removed]",
      "text/plain": [
       "<Figure size 432x288 with 1 Axes>"
      ]
     },
     "metadata": {
      "needs_background": "light"
     },
     "output_type": "display_data"
    }
   ],
   "source": [
    "plt.plot(poly2_data['power_1'],poly2_data['price'],'.',\n",
    "         poly2_data['power_1'], model2.predict(poly2_data[['power_1','power_2']]),'-')"
   ]
  },
  {
   "cell_type": "markdown",
   "metadata": {},
   "source": [
    "The resulting model looks like half a parabola. Try on your own to see what the cubic looks like:"
   ]
  },
  {
   "cell_type": "code",
   "execution_count": 88,
   "metadata": {},
   "outputs": [
    {
     "name": "stdout",
     "output_type": "stream",
     "text": [
      "19452      290\n",
      "15381      370\n",
      "860        380\n",
      "18379      384\n",
      "4868       390\n",
      "         ...  \n",
      "8092      9640\n",
      "9254      9890\n",
      "3914     10040\n",
      "7252     12050\n",
      "12777    13540\n",
      "Name: sqft_living, Length: 21613, dtype: int64\n",
      "       power_1  power_2   power_3     price\n",
      "19452      290    84100  24389000  142000.0\n",
      "15381      370   136900  50653000  276000.0\n",
      "860        380   144400  54872000  245000.0\n",
      "18379      384   147456  56623104  265000.0\n",
      "4868       390   152100  59319000  228000.0\n"
     ]
    },
    {
     "data": {
      "text/plain": [
       "LinearRegression(copy_X=True, fit_intercept=True, n_jobs=None, normalize=False)"
      ]
     },
     "execution_count": 88,
     "metadata": {},
     "output_type": "execute_result"
    }
   ],
   "source": [
    "poly3_data = polynomial_sframe(sales['sqft_living'], 3)\n",
    "#print(poly2_data.columns)\n",
    "my_features = poly3_data.columns # get the name of the features\n",
    "poly3_data['price'] = sales['price'] # add price to the data since it's the target\n",
    "print(poly3_data.head())\n",
    "#model2 = turicreate.linear_regression.create(poly2_data, target = 'price', features = my_features, validation_set = None)\n",
    "\n",
    "model3 = linear_model.LinearRegression()\n",
    "\n",
    "x = poly3_data[['power_1', 'power_2', 'power_3']]\n",
    "y = poly3_data['price']\n",
    "model3.fit(x,y)"
   ]
  },
  {
   "cell_type": "code",
   "execution_count": 92,
   "metadata": {},
   "outputs": [
    {
     "data": {
      "text/plain": [
       "[<matplotlib.lines.Line2D at 0x1e449865dc8>,\n",
       " <matplotlib.lines.Line2D at 0x1e44986efc8>]"
      ]
     },
     "execution_count": 92,
     "metadata": {},
     "output_type": "execute_result"
    },
    {
     "data": {
      "image/png": "[encoded data removed]",
      "text/plain": [
       "<Figure size 432x288 with 1 Axes>"
      ]
     },
     "metadata": {
      "needs_background": "light"
     },
     "output_type": "display_data"
    }
   ],
   "source": [
    "x_input = poly3_data[['power_1']]\n",
    "y_actual = poly3_data['price']\n",
    "y_pre = model3.predict(poly3_data[['power_1', 'power_2', 'power_3']])\n",
    "\n",
    "plt.plot(x_input, y_actual, '.',\n",
    "        x_input, y_pre, '-')"
   ]
  },
  {
   "cell_type": "markdown",
   "metadata": {},
   "source": [
    "Now try a 15th degree polynomial:"
   ]
  },
  {
   "cell_type": "code",
   "execution_count": 97,
   "metadata": {},
   "outputs": [
    {
     "name": "stdout",
     "output_type": "stream",
     "text": [
      "19452      290\n",
      "15381      370\n",
      "860        380\n",
      "18379      384\n",
      "4868       390\n",
      "         ...  \n",
      "8092      9640\n",
      "9254      9890\n",
      "3914     10040\n",
      "7252     12050\n",
      "12777    13540\n",
      "Name: sqft_living, Length: 21613, dtype: int64\n",
      "       power_1  power_2   power_3      power_4        power_5  \\\n",
      "19452      290    84100  24389000   7072810000  2051114900000   \n",
      "15381      370   136900  50653000  18741610000  6934395700000   \n",
      "860        380   144400  54872000  20851360000  7923516800000   \n",
      "18379      384   147456  56623104  21743271936  8349416423424   \n",
      "4868       390   152100  59319000  23134410000  9022419900000   \n",
      "\n",
      "                power_6              power_7                power_8  \\\n",
      "19452   594823321000000   172498763090000000   50024641296100000000   \n",
      "15381  2565726409000000   949318771330000000  351247945392100000000   \n",
      "860    3010936384000000  1144155825920000000  434779213849600000000   \n",
      "18379  3206175906594816  1231171548132409344  472769874482845188096   \n",
      "4868   3518743761000000  1372310066790000000  535200926048100000000   \n",
      "\n",
      "                        power_9                    power_10  \\\n",
      "19452   14507145975869000000000   4207072333002010000000000   \n",
      "15381  129961739795077000000000  48085843724178490000000000   \n",
      "860    165216101262848000000000  62782118479882240000000000   \n",
      "18379  181543631801412552228864  69712754611742420055883776   \n",
      "4868   208728361158759000000000  81404060851916010000000000   \n",
      "\n",
      "                            power_11                          power_12  \\\n",
      "19452   1220050976570582900000000000    353814783205469041000000000000   \n",
      "15381  17791762177946041300000000000   6582952005840035281000000000000   \n",
      "860    23857205022355251200000000000   9065737908494995456000000000000   \n",
      "18379  26769697770909089301459369984  10279563944029090291760398073856   \n",
      "4868   31747583732247243900000000000  12381557655576425121000000000000   \n",
      "\n",
      "                                 power_13  \\\n",
      "19452   102606287129586021890000000000000   \n",
      "15381  2435692242160813053970000000000000   \n",
      "860    3444980405228098273280000000000000   \n",
      "18379  3947352554507170672035992860360704   \n",
      "4868   4828807485674805797190000000000000   \n",
      "\n",
      "                                    power_14  \\\n",
      "19452    29755823267579946348100000000000000   \n",
      "15381   901206129599500829968900000000000000   \n",
      "860    1309092553986677343846400000000000000   \n",
      "18379  1515783380930753538061821258378510336   \n",
      "4868   1883234919413174260904100000000000000   \n",
      "\n",
      "                                      power_15     price  \n",
      "19452    8629188747598184440949000000000000000  142000.0  \n",
      "15381  333446267951815307088493000000000000000  276000.0  \n",
      "860    497455170514937390661632000000000000000  245000.0  \n",
      "18379  582060818277409358615739363217347969024  265000.0  \n",
      "4868   734461618571137961752599000000000000000  228000.0  \n"
     ]
    }
   ],
   "source": [
    "poly15_data = polynomial_sframe(sales['sqft_living'], 15)\n",
    "#print(poly2_data.columns)\n",
    "my_features = poly15_data.columns # get the name of the features\n",
    "poly15_data['price'] = sales['price'] # add price to the data since it's the target\n",
    "print(poly15_data.head())\n",
    "#model2 = turicreate.linear_regression.create(poly2_data, target = 'price', features = my_features, validation_set = None)\n",
    "\n",
    "model15 = linear_model.LinearRegression()\n",
    "\n"
   ]
  },
  {
   "cell_type": "code",
   "execution_count": 107,
   "metadata": {},
   "outputs": [
    {
     "name": "stdout",
     "output_type": "stream",
     "text": [
      "[0, 1, 2, 3, 4, 5, 6, 7, 8, 9, 10, 11, 12, 13, 14]\n",
      "Index(['power_1', 'power_2', 'power_3', 'power_4', 'power_5', 'power_6',\n",
      "       'power_7', 'power_8', 'power_9', 'power_10', 'power_11', 'power_12',\n",
      "       'power_13', 'power_14', 'power_15'],\n",
      "      dtype='object')\n"
     ]
    }
   ],
   "source": [
    "x_range = [x for x in range(0,15)]\n",
    "print(x_range)\n",
    "x = poly15_data.iloc[:,x_range]\n",
    "print(x.columns)"
   ]
  },
  {
   "cell_type": "code",
   "execution_count": 108,
   "metadata": {},
   "outputs": [
    {
     "data": {
      "text/plain": [
       "LinearRegression(copy_X=True, fit_intercept=True, n_jobs=None, normalize=False)"
      ]
     },
     "execution_count": 108,
     "metadata": {},
     "output_type": "execute_result"
    }
   ],
   "source": [
    "x = poly15_data.iloc[:,x_range]\n",
    "y = poly15_data['price']\n",
    "model15.fit(x,y)"
   ]
  },
  {
   "cell_type": "code",
   "execution_count": 111,
   "metadata": {},
   "outputs": [
    {
     "data": {
      "text/plain": [
       "[<matplotlib.lines.Line2D at 0x1e44b7cd808>,\n",
       " <matplotlib.lines.Line2D at 0x1e44b4bc088>]"
      ]
     },
     "execution_count": 111,
     "metadata": {},
     "output_type": "execute_result"
    },
    {
     "data": {
      "image/png": "[encoded data removed]",
      "text/plain": [
       "<Figure size 432x288 with 1 Axes>"
      ]
     },
     "metadata": {
      "needs_background": "light"
     },
     "output_type": "display_data"
    }
   ],
   "source": [
    "x_input = poly15_data[['power_1']]\n",
    "y_actual = poly15_data['price']\n",
    "y_pre = model15.predict(poly15_data.iloc[:,x_range])\n",
    "\n",
    "plt.plot(x_input, y_actual, '.',\n",
    "        x_input, y_pre, '-')"
   ]
  },
  {
   "cell_type": "markdown",
   "metadata": {},
   "source": [
    "What do you think of the 15th degree polynomial? Do you think this is appropriate? If we were to change the data do you think you'd get pretty much the same curve? Let's take a look."
   ]
  },
  {
   "cell_type": "markdown",
   "metadata": {},
   "source": [
    "# Changing the data and re-learning"
   ]
  },
  {
   "cell_type": "markdown",
   "metadata": {},
   "source": [
    "We're going to split the sales data into four subsets of roughly equal size. Then you will estimate a 15th degree polynomial model on all four subsets of the data. Print the coefficients (you should use .print_rows(num_rows = 16) to view all of them) and plot the resulting fit (as we did above). The quiz will ask you some questions about these results.\n",
    "\n",
    "To split the sales data into four subsets, we perform the following steps:\n",
    "* First split sales into 2 subsets with `.random_split(0.5, seed=0)`. \n",
    "* Next split the resulting subsets into 2 more subsets each. Use `.random_split(0.5, seed=0)`.\n",
    "\n",
    "We set `seed=0` in these steps so that different users get consistent results.\n",
    "You should end up with 4 subsets (`set_1`, `set_2`, `set_3`, `set_4`) of approximately equal size. "
   ]
  },
  {
   "cell_type": "code",
   "execution_count": 138,
   "metadata": {},
   "outputs": [
    {
     "name": "stdout",
     "output_type": "stream",
     "text": [
      "set_1\n"
     ]
    }
   ],
   "source": [
    "set_1 = pd.read_csv(file_path + '\\data\\wk3_kc_house_set_1_data.csv')\n",
    "set_2 = pd.read_csv(file_path + '\\data\\wk3_kc_house_set_2_data.csv')\n",
    "set_3 = pd.read_csv(file_path + '\\data\\wk3_kc_house_set_3_data.csv')\n",
    "set_4 = pd.read_csv(file_path + '\\data\\wk3_kc_house_set_4_data.csv')\n",
    "\n",
    "for i in range(1,2):\n",
    "    data_path = file_path + '\\data\\wk3_kc_house_set_' + str(i) + '_data.csv'\n",
    "    file_name = 'set_' + str(i)\n",
    "    print(file_name)\n",
    "    file_name = pd.read_csv(data_path)\n",
    "#print(file_name)\n"
   ]
  },
  {
   "cell_type": "markdown",
   "metadata": {},
   "source": [
    "Fit a 15th degree polynomial on set_1, set_2, set_3, and set_4 using sqft_living to predict prices. Print the coefficients and make a plot of the resulting model."
   ]
  },
  {
   "cell_type": "code",
   "execution_count": 154,
   "metadata": {},
   "outputs": [
    {
     "name": "stdout",
     "output_type": "stream",
     "text": [
      "0         430\n",
      "1         460\n",
      "2         470\n",
      "3         490\n",
      "4         500\n",
      "        ...  \n",
      "5399     8000\n",
      "5400     8010\n",
      "5401     8670\n",
      "5402    12050\n",
      "5403    13540\n",
      "Name: sqft_living, Length: 5404, dtype: int64\n",
      "Index(['power_1', 'power_2', 'power_3', 'power_4', 'power_5', 'power_6',\n",
      "       'power_7', 'power_8', 'power_9', 'power_10', 'power_11', 'power_12',\n",
      "       'power_13', 'power_14', 'power_15'],\n",
      "      dtype='object')\n",
      "539058.8186679217 [ 3.05794168e-90 -1.69394947e-49 -5.61767568e-55 -4.97841222e-60\n",
      "  3.23082736e-74  1.10358333e-70  8.37724029e-67  6.23411957e-63\n",
      "  4.49156442e-59  3.06938763e-55  1.91749300e-51  1.01335180e-47\n",
      "  3.62176959e-44 -5.63501661e-48  2.18641116e-52]\n"
     ]
    },
    {
     "data": {
      "image/png": "[encoded data removed]",
      "text/plain": [
       "<Figure size 432x288 with 1 Axes>"
      ]
     },
     "metadata": {
      "needs_background": "light"
     },
     "output_type": "display_data"
    }
   ],
   "source": [
    "# set_1 data prepare\n",
    "x_train = polynomial_sframe(set_1['sqft_living'], 15)\n",
    "#my_features = set_1_15.columns # get the name of the features\n",
    "y_act = set_1['price']\n",
    "print(x_train.columns)\n",
    "\n",
    "# train model\n",
    "model_1_15 = linear_model.LinearRegression()\n",
    "model_1_15.fit(x_train, y_act)\n",
    "\n",
    "# predict\n",
    "y_predict = model_1_15.predict(x_train)\n",
    "\n",
    "# plot actual and predicted values\n",
    "plt.plot(set_1['sqft_living'], y_act, '.',\n",
    "        set_1['sqft_living'], y_predict, '-')\n",
    "print(model_1_15.intercept_, model_1_15.coef_)"
   ]
  },
  {
   "cell_type": "code",
   "execution_count": 151,
   "metadata": {},
   "outputs": [
    {
     "name": "stdout",
     "output_type": "stream",
     "text": [
      "0        390\n",
      "1        410\n",
      "2        420\n",
      "3        420\n",
      "4        440\n",
      "        ... \n",
      "5393    7270\n",
      "5394    7440\n",
      "5395    7480\n",
      "5396    7730\n",
      "5397    9200\n",
      "Name: sqft_living, Length: 5398, dtype: int64\n",
      "Index(['power_1', 'power_2', 'power_3', 'power_4', 'power_5', 'power_6',\n",
      "       'power_7', 'power_8', 'power_9', 'power_10', 'power_11', 'power_12',\n",
      "       'power_13', 'power_14', 'power_15'],\n",
      "      dtype='object')\n"
     ]
    },
    {
     "data": {
      "text/plain": [
       "[<matplotlib.lines.Line2D at 0x1e44b1ef248>,\n",
       " <matplotlib.lines.Line2D at 0x1e44ab05a08>]"
      ]
     },
     "execution_count": 151,
     "metadata": {},
     "output_type": "execute_result"
    },
    {
     "data": {
      "image/png": "[encoded data removed]",
      "text/plain": [
       "<Figure size 432x288 with 1 Axes>"
      ]
     },
     "metadata": {
      "needs_background": "light"
     },
     "output_type": "display_data"
    }
   ],
   "source": [
    "# set_2 data prepare\n",
    "x_train = polynomial_sframe(set_2['sqft_living'], 15)\n",
    "#my_features = set_1_15.columns # get the name of the features\n",
    "y_act = set_2['price']\n",
    "print(x_train.columns)\n",
    "\n",
    "# train model\n",
    "model_2_15 = linear_model.LinearRegression()\n",
    "model_2_15.fit(x_train, y_act)\n",
    "\n",
    "# predict\n",
    "y_predict = model_2_15.predict(x_train)\n",
    "\n",
    "# plot actual and predicted values\n",
    "plt.plot(set_2['sqft_living'], y_act, '.',\n",
    "        set_2['sqft_living'], y_predict, '-')"
   ]
  },
  {
   "cell_type": "code",
   "execution_count": 152,
   "metadata": {},
   "outputs": [
    {
     "name": "stdout",
     "output_type": "stream",
     "text": [
      "0         390\n",
      "1         480\n",
      "2         480\n",
      "3         520\n",
      "4         520\n",
      "        ...  \n",
      "5404     7220\n",
      "5405     7400\n",
      "5406     9640\n",
      "5407     9890\n",
      "5408    10040\n",
      "Name: sqft_living, Length: 5409, dtype: int64\n",
      "Index(['power_1', 'power_2', 'power_3', 'power_4', 'power_5', 'power_6',\n",
      "       'power_7', 'power_8', 'power_9', 'power_10', 'power_11', 'power_12',\n",
      "       'power_13', 'power_14', 'power_15'],\n",
      "      dtype='object')\n"
     ]
    },
    {
     "data": {
      "text/plain": [
       "[<matplotlib.lines.Line2D at 0x1e44b38f408>,\n",
       " <matplotlib.lines.Line2D at 0x1e449671988>]"
      ]
     },
     "execution_count": 152,
     "metadata": {},
     "output_type": "execute_result"
    },
    {
     "data": {
      "image/png": "[encoded data removed]",
      "text/plain": [
       "<Figure size 432x288 with 1 Axes>"
      ]
     },
     "metadata": {
      "needs_background": "light"
     },
     "output_type": "display_data"
    }
   ],
   "source": [
    "# set_3 data prepare\n",
    "x_train = polynomial_sframe(set_3['sqft_living'], 15)\n",
    "#my_features = set_1_15.columns # get the name of the features\n",
    "y_act = set_3['price']\n",
    "print(x_train.columns)\n",
    "\n",
    "# train model\n",
    "model_3_15 = linear_model.LinearRegression()\n",
    "model_3_15.fit(x_train, y_act)\n",
    "\n",
    "# predict\n",
    "y_predict = model_3_15.predict(x_train)\n",
    "\n",
    "# plot actual and predicted values\n",
    "plt.plot(set_3['sqft_living'], y_act, '.',\n",
    "        set_3['sqft_living'], y_predict, '-')"
   ]
  },
  {
   "cell_type": "code",
   "execution_count": 153,
   "metadata": {},
   "outputs": [
    {
     "name": "stdout",
     "output_type": "stream",
     "text": [
      "0        290\n",
      "1        370\n",
      "2        380\n",
      "3        384\n",
      "4        470\n",
      "        ... \n",
      "5397    6880\n",
      "5398    7080\n",
      "5399    7350\n",
      "5400    7390\n",
      "5401    8020\n",
      "Name: sqft_living, Length: 5402, dtype: int64\n",
      "Index(['power_1', 'power_2', 'power_3', 'power_4', 'power_5', 'power_6',\n",
      "       'power_7', 'power_8', 'power_9', 'power_10', 'power_11', 'power_12',\n",
      "       'power_13', 'power_14', 'power_15'],\n",
      "      dtype='object')\n"
     ]
    },
    {
     "data": {
      "text/plain": [
       "[<matplotlib.lines.Line2D at 0x1e44b20cb08>,\n",
       " <matplotlib.lines.Line2D at 0x1e449671d48>]"
      ]
     },
     "execution_count": 153,
     "metadata": {},
     "output_type": "execute_result"
    },
    {
     "data": {
      "image/png": "[encoded data removed]",
      "text/plain": [
       "<Figure size 432x288 with 1 Axes>"
      ]
     },
     "metadata": {
      "needs_background": "light"
     },
     "output_type": "display_data"
    }
   ],
   "source": [
    "# set_4 data prepare\n",
    "x_train = polynomial_sframe(set_4['sqft_living'], 15)\n",
    "#my_features = set_1_15.columns # get the name of the features\n",
    "y_act = set_4['price']\n",
    "print(x_train.columns)\n",
    "\n",
    "# train model\n",
    "model_4_15 = linear_model.LinearRegression()\n",
    "model_4_15.fit(x_train, y_act)\n",
    "\n",
    "# predict\n",
    "y_predict = model_4_15.predict(x_train)\n",
    "\n",
    "# plot actual and predicted values\n",
    "plt.plot(set_4['sqft_living'], y_act, '.',\n",
    "        set_4['sqft_living'], y_predict, '-')"
   ]
  },
  {
   "cell_type": "markdown",
   "metadata": {},
   "source": [
    "Some questions you will be asked on your quiz:\n",
    "\n",
    "**Quiz Question: Is the sign (positive or negative) for power_15 the same in all four models?**\n",
    "\n",
    "**Quiz Question: (True/False) the plotted fitted lines look the same in all four plots**"
   ]
  },
  {
   "cell_type": "code",
   "execution_count": 156,
   "metadata": {},
   "outputs": [
    {
     "name": "stdout",
     "output_type": "stream",
     "text": [
      "539058.8186679217 [ 3.05794168e-90 -1.69394947e-49 -5.61767568e-55 -4.97841222e-60\n",
      "  3.23082736e-74  1.10358333e-70  8.37724029e-67  6.23411957e-63\n",
      "  4.49156442e-59  3.06938763e-55  1.91749300e-51  1.01335180e-47\n",
      "  3.62176959e-44 -5.63501661e-48  2.18641116e-52]\n",
      "506856.1316205913 [ 2.71335949e-77  7.33541090e-39 -1.85014814e-44  8.44628222e-50\n",
      "  5.73786179e-71  1.51934987e-58  3.64549616e-55  1.50416258e-51\n",
      "  5.76015665e-48  1.95770497e-44  5.39396539e-41  9.40376360e-38\n",
      " -3.63529141e-41  4.65476524e-45 -1.97199121e-49]\n",
      "530874.3166533422 [ 2.83751934e-88 -7.80224128e-49 -1.38770849e-55 -3.98272978e-59\n",
      "  1.57170169e-72  4.27894908e-69  2.68009626e-65  1.63911362e-61\n",
      "  9.66435015e-58  5.38044653e-54  2.72563636e-50  1.16253248e-46\n",
      "  3.33756141e-43 -6.76238818e-47  3.43132932e-51]\n",
      "494819.18487209524 [ 1.37116050e-76  2.79678221e-40 -2.13063863e-44 -2.19910713e-49\n",
      "  2.58420337e-70  5.29002498e-58  1.27070046e-54  4.87868972e-51\n",
      "  1.73549022e-47  5.47058320e-44  1.39587599e-40  2.25041871e-37\n",
      " -9.43954119e-41  1.31573060e-44 -6.09163430e-49]\n"
     ]
    }
   ],
   "source": [
    "print(model_1_15.intercept_, model_1_15.coef_)\n",
    "print(model_2_15.intercept_, model_2_15.coef_)\n",
    "print(model_3_15.intercept_, model_3_15.coef_)\n",
    "print(model_4_15.intercept_, model_4_15.coef_)"
   ]
  },
  {
   "cell_type": "markdown",
   "metadata": {},
   "source": [
    "# Selecting a Polynomial Degree"
   ]
  },
  {
   "cell_type": "markdown",
   "metadata": {},
   "source": [
    "Whenever we have a \"magic\" parameter like the degree of the polynomial there is one well-known way to select these parameters: validation set. (We will explore another approach in week 4).\n",
    "\n",
    "We split the sales dataset 3-way into training set, test set, and validation set as follows:\n",
    "\n",
    "* Split our sales data into 2 sets: `training_and_validation` and `testing`. Use `random_split(0.9, seed=1)`.\n",
    "* Further split our training data into two sets: `training` and `validation`. Use `random_split(0.5, seed=1)`.\n",
    "\n",
    "Again, we set `seed=1` to obtain consistent results for different users."
   ]
  },
  {
   "cell_type": "code",
   "execution_count": 158,
   "metadata": {},
   "outputs": [
    {
     "name": "stdout",
     "output_type": "stream",
     "text": [
      "9761 9635 2217\n"
     ]
    }
   ],
   "source": [
    "train = pd.read_csv(file_path + '\\data\\wk3_kc_house_train_data.csv')\n",
    "valid = pd.read_csv(file_path + '\\data\\wk3_kc_house_valid_data.csv')\n",
    "test = pd.read_csv(file_path + '\\data\\wk3_kc_house_test_data.csv')\n",
    "\n",
    "print(len(train), len(valid), len(test))\n"
   ]
  },
  {
   "cell_type": "markdown",
   "metadata": {},
   "source": [
    "Next you should write a loop that does the following:\n",
    "* For degree in [1, 2, 3, 4, 5, 6, 7, 8, 9, 10, 11, 12, 13, 14, 15] (to get this in python type range(1, 15+1))\n",
    "    * Build an SFrame of polynomial data of train_data['sqft_living'] at the current degree\n",
    "    * hint: my_features = poly_data.column_names() gives you a list e.g. ['power_1', 'power_2', 'power_3'] which you might find useful for turicreate.linear_regression.create( features = my_features)\n",
    "    * Add train_data['price'] to the polynomial SFrame\n",
    "    * Learn a polynomial regression model to sqft vs price with that degree on TRAIN data\n",
    "    * Compute the RSS on VALIDATION data (here you will want to use .predict()) for that degree and you will need to make a polynmial SFrame using validation data.\n",
    "* Report which degree had the lowest RSS on validation data (remember python indexes from 0)\n",
    "\n",
    "(Note you can turn off the print out of linear_regression.create() with verbose = False)"
   ]
  },
  {
   "cell_type": "code",
   "execution_count": 161,
   "metadata": {},
   "outputs": [
    {
     "name": "stdout",
     "output_type": "stream",
     "text": [
      "0       1960\n",
      "1       5420\n",
      "2       1160\n",
      "3       1430\n",
      "4       1370\n",
      "        ... \n",
      "9756    1490\n",
      "9757    2520\n",
      "9758    3510\n",
      "9759    1020\n",
      "9760    1020\n",
      "Name: sqft_living, Length: 9761, dtype: int64\n",
      "0       1180\n",
      "1       2570\n",
      "2        770\n",
      "3       1680\n",
      "4       1715\n",
      "        ... \n",
      "9630    1500\n",
      "9631    1310\n",
      "9632    1530\n",
      "9633    2310\n",
      "9634    1600\n",
      "Name: sqft_living, Length: 9635, dtype: int64\n",
      "0       1960\n",
      "1       5420\n",
      "2       1160\n",
      "3       1430\n",
      "4       1370\n",
      "        ... \n",
      "9756    1490\n",
      "9757    2520\n",
      "9758    3510\n",
      "9759    1020\n",
      "9760    1020\n",
      "Name: sqft_living, Length: 9761, dtype: int64\n",
      "0       1180\n",
      "1       2570\n",
      "2        770\n",
      "3       1680\n",
      "4       1715\n",
      "        ... \n",
      "9630    1500\n",
      "9631    1310\n",
      "9632    1530\n",
      "9633    2310\n",
      "9634    1600\n",
      "Name: sqft_living, Length: 9635, dtype: int64\n",
      "0       1960\n",
      "1       5420\n",
      "2       1160\n",
      "3       1430\n",
      "4       1370\n",
      "        ... \n",
      "9756    1490\n",
      "9757    2520\n",
      "9758    3510\n",
      "9759    1020\n",
      "9760    1020\n",
      "Name: sqft_living, Length: 9761, dtype: int64\n",
      "0       1180\n",
      "1       2570\n",
      "2        770\n",
      "3       1680\n",
      "4       1715\n",
      "        ... \n",
      "9630    1500\n",
      "9631    1310\n",
      "9632    1530\n",
      "9633    2310\n",
      "9634    1600\n",
      "Name: sqft_living, Length: 9635, dtype: int64\n",
      "0       1960\n",
      "1       5420\n",
      "2       1160\n",
      "3       1430\n",
      "4       1370\n",
      "        ... \n",
      "9756    1490\n",
      "9757    2520\n",
      "9758    3510\n",
      "9759    1020\n",
      "9760    1020\n",
      "Name: sqft_living, Length: 9761, dtype: int64\n",
      "0       1180\n",
      "1       2570\n",
      "2        770\n",
      "3       1680\n",
      "4       1715\n",
      "        ... \n",
      "9630    1500\n",
      "9631    1310\n",
      "9632    1530\n",
      "9633    2310\n",
      "9634    1600\n",
      "Name: sqft_living, Length: 9635, dtype: int64\n",
      "0       1960\n",
      "1       5420\n",
      "2       1160\n",
      "3       1430\n",
      "4       1370\n",
      "        ... \n",
      "9756    1490\n",
      "9757    2520\n",
      "9758    3510\n",
      "9759    1020\n",
      "9760    1020\n",
      "Name: sqft_living, Length: 9761, dtype: int64\n",
      "0       1180\n",
      "1       2570\n",
      "2        770\n",
      "3       1680\n",
      "4       1715\n",
      "        ... \n",
      "9630    1500\n",
      "9631    1310\n",
      "9632    1530\n",
      "9633    2310\n",
      "9634    1600\n",
      "Name: sqft_living, Length: 9635, dtype: int64\n",
      "0       1960\n",
      "1       5420\n",
      "2       1160\n",
      "3       1430\n",
      "4       1370\n",
      "        ... \n",
      "9756    1490\n",
      "9757    2520\n",
      "9758    3510\n",
      "9759    1020\n",
      "9760    1020\n",
      "Name: sqft_living, Length: 9761, dtype: int64\n",
      "0       1180\n",
      "1       2570\n",
      "2        770\n",
      "3       1680\n",
      "4       1715\n",
      "        ... \n",
      "9630    1500\n",
      "9631    1310\n",
      "9632    1530\n",
      "9633    2310\n",
      "9634    1600\n",
      "Name: sqft_living, Length: 9635, dtype: int64\n",
      "0       1960\n",
      "1       5420\n",
      "2       1160\n",
      "3       1430\n",
      "4       1370\n",
      "        ... \n",
      "9756    1490\n",
      "9757    2520\n",
      "9758    3510\n",
      "9759    1020\n",
      "9760    1020\n",
      "Name: sqft_living, Length: 9761, dtype: int64\n",
      "0       1180\n",
      "1       2570\n",
      "2        770\n",
      "3       1680\n",
      "4       1715\n",
      "        ... \n",
      "9630    1500\n",
      "9631    1310\n",
      "9632    1530\n",
      "9633    2310\n",
      "9634    1600\n",
      "Name: sqft_living, Length: 9635, dtype: int64\n",
      "0       1960\n",
      "1       5420\n",
      "2       1160\n",
      "3       1430\n",
      "4       1370\n",
      "        ... \n",
      "9756    1490\n",
      "9757    2520\n",
      "9758    3510\n",
      "9759    1020\n",
      "9760    1020\n",
      "Name: sqft_living, Length: 9761, dtype: int64\n",
      "0       1180\n",
      "1       2570\n",
      "2        770\n",
      "3       1680\n",
      "4       1715\n",
      "        ... \n",
      "9630    1500\n",
      "9631    1310\n",
      "9632    1530\n",
      "9633    2310\n",
      "9634    1600\n",
      "Name: sqft_living, Length: 9635, dtype: int64\n",
      "0       1960\n",
      "1       5420\n",
      "2       1160\n",
      "3       1430\n",
      "4       1370\n",
      "        ... \n",
      "9756    1490\n",
      "9757    2520\n",
      "9758    3510\n",
      "9759    1020\n",
      "9760    1020\n",
      "Name: sqft_living, Length: 9761, dtype: int64\n",
      "0       1180\n",
      "1       2570\n",
      "2        770\n",
      "3       1680\n",
      "4       1715\n",
      "        ... \n",
      "9630    1500\n",
      "9631    1310\n",
      "9632    1530\n",
      "9633    2310\n",
      "9634    1600\n",
      "Name: sqft_living, Length: 9635, dtype: int64\n",
      "0       1960\n",
      "1       5420\n",
      "2       1160\n",
      "3       1430\n",
      "4       1370\n",
      "        ... \n",
      "9756    1490\n",
      "9757    2520\n",
      "9758    3510\n",
      "9759    1020\n",
      "9760    1020\n",
      "Name: sqft_living, Length: 9761, dtype: int64\n",
      "0       1180\n",
      "1       2570\n",
      "2        770\n",
      "3       1680\n",
      "4       1715\n",
      "        ... \n",
      "9630    1500\n",
      "9631    1310\n",
      "9632    1530\n",
      "9633    2310\n",
      "9634    1600\n",
      "Name: sqft_living, Length: 9635, dtype: int64\n",
      "0       1960\n",
      "1       5420\n",
      "2       1160\n",
      "3       1430\n",
      "4       1370\n",
      "        ... \n",
      "9756    1490\n",
      "9757    2520\n",
      "9758    3510\n",
      "9759    1020\n",
      "9760    1020\n",
      "Name: sqft_living, Length: 9761, dtype: int64\n",
      "0       1180\n",
      "1       2570\n",
      "2        770\n",
      "3       1680\n",
      "4       1715\n",
      "        ... \n",
      "9630    1500\n",
      "9631    1310\n",
      "9632    1530\n",
      "9633    2310\n",
      "9634    1600\n",
      "Name: sqft_living, Length: 9635, dtype: int64\n",
      "0       1960\n",
      "1       5420\n",
      "2       1160\n",
      "3       1430\n",
      "4       1370\n",
      "        ... \n",
      "9756    1490\n",
      "9757    2520\n",
      "9758    3510\n",
      "9759    1020\n",
      "9760    1020\n",
      "Name: sqft_living, Length: 9761, dtype: int64\n",
      "0       1180\n",
      "1       2570\n",
      "2        770\n",
      "3       1680\n",
      "4       1715\n",
      "        ... \n",
      "9630    1500\n",
      "9631    1310\n",
      "9632    1530\n",
      "9633    2310\n",
      "9634    1600\n",
      "Name: sqft_living, Length: 9635, dtype: int64\n",
      "0       1960\n",
      "1       5420\n",
      "2       1160\n",
      "3       1430\n",
      "4       1370\n",
      "        ... \n",
      "9756    1490\n",
      "9757    2520\n",
      "9758    3510\n",
      "9759    1020\n",
      "9760    1020\n",
      "Name: sqft_living, Length: 9761, dtype: int64\n",
      "0       1180\n",
      "1       2570\n",
      "2        770\n",
      "3       1680\n",
      "4       1715\n",
      "        ... \n",
      "9630    1500\n",
      "9631    1310\n",
      "9632    1530\n",
      "9633    2310\n",
      "9634    1600\n",
      "Name: sqft_living, Length: 9635, dtype: int64\n",
      "0       1960\n",
      "1       5420\n",
      "2       1160\n",
      "3       1430\n",
      "4       1370\n",
      "        ... \n",
      "9756    1490\n",
      "9757    2520\n",
      "9758    3510\n",
      "9759    1020\n",
      "9760    1020\n",
      "Name: sqft_living, Length: 9761, dtype: int64\n",
      "0       1180\n",
      "1       2570\n",
      "2        770\n",
      "3       1680\n",
      "4       1715\n",
      "        ... \n",
      "9630    1500\n",
      "9631    1310\n",
      "9632    1530\n",
      "9633    2310\n",
      "9634    1600\n",
      "Name: sqft_living, Length: 9635, dtype: int64\n",
      "0       1960\n",
      "1       5420\n",
      "2       1160\n",
      "3       1430\n",
      "4       1370\n",
      "        ... \n",
      "9756    1490\n",
      "9757    2520\n",
      "9758    3510\n",
      "9759    1020\n",
      "9760    1020\n",
      "Name: sqft_living, Length: 9761, dtype: int64\n",
      "0       1180\n",
      "1       2570\n",
      "2        770\n",
      "3       1680\n",
      "4       1715\n",
      "        ... \n",
      "9630    1500\n",
      "9631    1310\n",
      "9632    1530\n",
      "9633    2310\n",
      "9634    1600\n",
      "Name: sqft_living, Length: 9635, dtype: int64\n",
      "6.955038097253788e+18\n"
     ]
    }
   ],
   "source": [
    "# define model assessment matrix\n",
    "RSS_dic = {}\n",
    "\n",
    "# loop for iterate degress\n",
    "for i in range(1,16):\n",
    "# create x_train with i degree\n",
    "    x_train = polynomial_sframe(train['sqft_living'], i)\n",
    "# create y_train\n",
    "    y_train = train['price']\n",
    "# train model with i degree\n",
    "    model = linear_model.LinearRegression()\n",
    "    model.fit(x_train, y_train)\n",
    "# create x_valid\n",
    "    x_valid = polynomial_sframe(valid['sqft_living'], i)\n",
    "# create y_valid\n",
    "    y_valid = valid['price']\n",
    "# add RSS with i degree in dictionary, output the largest one\n",
    "    prediction = model.predict(x_valid)\n",
    "    RSS = sum((prediction - y_valid)**2)\n",
    "    \n",
    "    RSS_dic[i] = RSS\n",
    "print(RSS)\n",
    "# plot model prediction and actual"
   ]
  },
  {
   "cell_type": "code",
   "execution_count": 163,
   "metadata": {},
   "outputs": [
    {
     "name": "stdout",
     "output_type": "stream",
     "text": [
      "{1: 629097886299587.5, 2: 623955062706519.1, 3: 625820280251530.8, 4: 629987341468499.9, 5: 628240679314405.9, 6: 566268593930554.5, 7: 1073845517537453.6, 8: 7087872270340538.0, 9: 4.5303601606618904e+16, 10: 2.475699114375292e+17, 11: 1.193782560132884e+18, 12: 5.092665343583419e+18, 13: 7.616230021284306e+17, 14: 2.2975609250061896e+18, 15: 6.955038097253788e+18}\n",
      "6\n"
     ]
    }
   ],
   "source": [
    "print(RSS_dic)\n",
    "min_key = min(RSS_dic, key=RSS_dic.get)\n",
    "print(min_key)"
   ]
  },
  {
   "cell_type": "markdown",
   "metadata": {},
   "source": [
    "**Quiz Question: Which degree (1, 2, …, 15) had the lowest RSS on Validation data?**"
   ]
  },
  {
   "cell_type": "markdown",
   "metadata": {},
   "source": [
    "Now that you have chosen the degree of your polynomial using validation data, compute the RSS of this model on TEST data. Report the RSS on your quiz."
   ]
  },
  {
   "cell_type": "code",
   "execution_count": 174,
   "metadata": {},
   "outputs": [
    {
     "name": "stdout",
     "output_type": "stream",
     "text": [
      "0       1890\n",
      "1       1810\n",
      "2       1200\n",
      "3       2330\n",
      "4       1220\n",
      "        ... \n",
      "2212    1980\n",
      "2213    2198\n",
      "2214    2850\n",
      "2215    1140\n",
      "2216    1210\n",
      "Name: sqft_living, Length: 2217, dtype: int64\n",
      "   power_1  power_2      power_3         power_4            power_5  \\\n",
      "0     1890  3572100   6751269000  12759898410000  24116207994900000   \n",
      "1     1810  3276100   5929741000  10732831210000  19426424490100000   \n",
      "2     1200  1440000   1728000000   2073600000000   2488320000000000   \n",
      "3     2330  5428900  12649337000  29472955210000  68671985639300000   \n",
      "4     1220  1488400   1815848000   2215334560000   2702708163200000   \n",
      "\n",
      "                 power_6  \n",
      "0   45579633110361000000  \n",
      "1   35161828327081000000  \n",
      "2    2985984000000000000  \n",
      "3  160005726539569000000  \n",
      "4    3297303959104000000  \n",
      "0       1960\n",
      "1       5420\n",
      "2       1160\n",
      "3       1430\n",
      "4       1370\n",
      "        ... \n",
      "9756    1490\n",
      "9757    2520\n",
      "9758    3510\n",
      "9759    1020\n",
      "9760    1020\n",
      "Name: sqft_living, Length: 9761, dtype: int64\n"
     ]
    }
   ],
   "source": [
    "x_test = polynomial_sframe(test['sqft_living'], 6)\n",
    "print(x_test.head())\n",
    "y_test = test['price']\n",
    "\n",
    "x_train = polynomial_sframe(train['sqft_living'], 6)\n",
    "# create y_train\n",
    "y_train = train['price']\n",
    "# train model with i degree\n",
    "model = linear_model.LinearRegression()\n",
    "model.fit(x_train, y_train)\n",
    "    \n",
    "prediction = model.predict(x_test)\n",
    "RSS = sum((y_test - prediction)**2)"
   ]
  },
  {
   "cell_type": "markdown",
   "metadata": {},
   "source": [
    "**Quiz Question: what is the RSS on TEST data for the model with the degree selected from Validation data?**"
   ]
  },
  {
   "cell_type": "code",
   "execution_count": 175,
   "metadata": {},
   "outputs": [
    {
     "name": "stdout",
     "output_type": "stream",
     "text": [
      "1.352251e+14\n"
     ]
    }
   ],
   "source": [
    "print(f'{RSS:e}')"
   ]
  }
 ],
 "metadata": {
  "kernelspec": {
   "display_name": "Python 3",
   "language": "python",
   "name": "python3"
  },
  "language_info": {
   "codemirror_mode": {
    "name": "ipython",
    "version": 3
   },
   "file_extension": ".py",
   "mimetype": "text/x-python",
   "name": "python",
   "nbconvert_exporter": "python",
   "pygments_lexer": "ipython3",
   "version": "3.7.6"
  }
 },
 "nbformat": 4,
 "nbformat_minor": 1
}
