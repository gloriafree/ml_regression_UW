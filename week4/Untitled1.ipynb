{
 "cells": [
  {
   "cell_type": "code",
   "execution_count": 2,
   "metadata": {},
   "outputs": [
    {
     "name": "stdout",
     "output_type": "stream",
     "text": [
      "[1.00000000e+08 1.27427499e+08 1.62377674e+08 2.06913808e+08\n",
      " 2.63665090e+08 3.35981829e+08 4.28133240e+08 5.45559478e+08\n",
      " 6.95192796e+08 8.85866790e+08 1.12883789e+09 1.43844989e+09\n",
      " 1.83298071e+09 2.33572147e+09 2.97635144e+09 3.79269019e+09\n",
      " 4.83293024e+09 6.15848211e+09 7.84759970e+09 1.00000000e+10]\n"
     ]
    }
   ],
   "source": [
    "import numpy as np\n",
    "l1_penalty_values = np.logspace(8, 10, num=20)\n",
    "print(l1_penalty_values)"
   ]
  }
 ],
 "metadata": {
  "kernelspec": {
   "display_name": "Python 3",
   "language": "python",
   "name": "python3"
  },
  "language_info": {
   "codemirror_mode": {
    "name": "ipython",
    "version": 3
   },
   "file_extension": ".py",
   "mimetype": "text/x-python",
   "name": "python",
   "nbconvert_exporter": "python",
   "pygments_lexer": "ipython3",
   "version": "3.7.6"
  }
 },
 "nbformat": 4,
 "nbformat_minor": 4
}
